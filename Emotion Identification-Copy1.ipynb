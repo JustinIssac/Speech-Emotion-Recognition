{
 "cells": [
  {
   "cell_type": "markdown",
   "id": "165ac7d5",
   "metadata": {},
   "source": [
    "\n",
    "# Emotion Identification\n",
    "\n",
    "In this notebook, we'll classify the emotions present in audio recordings using machine learning. We will train a neural network to classify emotions after using the librosa framework to extract attributes from audio recordings.\n"
   ]
  },
  {
   "cell_type": "markdown",
   "id": "8a200fba",
   "metadata": {},
   "source": [
    "## Importing libraries\n",
    "\n",
    "First, we will start by importing the necessary libraries.\n"
   ]
  },
  {
   "cell_type": "code",
   "execution_count": 1,
   "id": "7c67552e",
   "metadata": {},
   "outputs": [],
   "source": [
    "import warnings\n",
    "warnings.filterwarnings('ignore')\n",
    "\n",
    "import librosa\n",
    "import os, glob, pickle\n",
    "import numpy as np\n",
    "import pandas as pd\n",
    "import matplotlib.pyplot as plt\n",
    "import seaborn as sns\n",
    "from sklearn.model_selection import train_test_split\n",
    "from sklearn.preprocessing import StandardScaler\n",
    "from sklearn.neural_network import MLPClassifier\n",
    "from sklearn.metrics import accuracy_score\n",
    "from os import listdir"
   ]
  },
  {
   "cell_type": "markdown",
   "id": "b80f2749",
   "metadata": {},
   "source": [
    "## Extracting audio filenames and emotions\n",
    "\n",
    "We begin by making separate lists for the audio filenames and associated emotions. The variables audio path and audio emotion respectively contain the audio files' paths and emotions. The filenames are mined for the emotions.\n"
   ]
  },
  {
   "cell_type": "code",
   "execution_count": 2,
   "id": "38c15aa0",
   "metadata": {},
   "outputs": [],
   "source": [
    "path = 'C:/Users/HP/OneDrive/Documents/Audacity IIIT/AudioWAV/'\n",
    "audio_path = []\n",
    "audio_emotion = []"
   ]
  },
  {
   "cell_type": "code",
   "execution_count": 3,
   "id": "23aa9eb0",
   "metadata": {},
   "outputs": [],
   "source": [
    "# collects all the audio filename in the variable 'path'\n",
    "directory_path = listdir(path)"
   ]
  },
  {
   "cell_type": "code",
   "execution_count": 4,
   "id": "f75da296",
   "metadata": {},
   "outputs": [],
   "source": [
    "for audio in directory_path:\n",
    "    audio_path.append(path + audio)\n",
    "    emotion = audio.split('_')\n",
    "    if emotion[2] == 'SAD':\n",
    "        audio_emotion.append(\"sad\")\n",
    "    elif emotion[2] == 'ANG':\n",
    "        audio_emotion.append(\"angry\")\n",
    "    elif emotion[2] == 'DIS':\n",
    "        audio_emotion.append(\"disgust\")\n",
    "    elif emotion[2] == 'NEU':\n",
    "        audio_emotion.append(\"neutral\")\n",
    "    elif emotion[2] == 'HAP':\n",
    "        audio_emotion.append(\"happy\")\n",
    "    elif emotion[2] == 'FEA':\n",
    "        audio_emotion.append(\"fear\")\n",
    "    else:\n",
    "        audio_emotion.append(\"unknown\")"
   ]
  },
  {
   "cell_type": "code",
   "execution_count": 5,
   "id": "e1109eb6",
   "metadata": {},
   "outputs": [
    {
     "name": "stdout",
     "output_type": "stream",
     "text": [
      "                                                Path Emotions\n",
      "0  C:/Users/HP/OneDrive/Documents/Audacity IIIT/A...    angry\n",
      "1  C:/Users/HP/OneDrive/Documents/Audacity IIIT/A...  disgust\n",
      "2  C:/Users/HP/OneDrive/Documents/Audacity IIIT/A...     fear\n",
      "3  C:/Users/HP/OneDrive/Documents/Audacity IIIT/A...    happy\n",
      "4  C:/Users/HP/OneDrive/Documents/Audacity IIIT/A...  neutral\n"
     ]
    }
   ],
   "source": [
    "emotion_dataset = pd.DataFrame(audio_emotion, columns=['Emotions'])\n",
    "audio_path_dataset = pd.DataFrame(audio_path, columns=['Path'])\n",
    "dataset = pd.concat([audio_path_dataset, emotion_dataset], axis= 1)\n",
    "#print(len(dataset))\n",
    "print(dataset.head())\n",
    "# print(dataset['File Path'][55])"
   ]
  },
  {
   "cell_type": "markdown",
   "id": "9075672b",
   "metadata": {},
   "source": [
    "## Visualizing emotions\n",
    "\n",
    "We can visualize the emotions of the audio files using a histogram."
   ]
  },
  {
   "cell_type": "code",
   "execution_count": 6,
   "id": "8a50b59a",
   "metadata": {},
   "outputs": [
    {
     "data": {
      "text/plain": [
       "<AxesSubplot:title={'center':'Emotion Count'}, xlabel='Emotions', ylabel='Count'>"
      ]
     },
     "execution_count": 6,
     "metadata": {},
     "output_type": "execute_result"
    },
    {
     "data": {
      "image/png": "[encoded data removed]",
      "text/plain": [
       "<Figure size 480x480 with 1 Axes>"
      ]
     },
     "metadata": {
      "needs_background": "light"
     },
     "output_type": "display_data"
    }
   ],
   "source": [
    "# counting audio categorized by emotions\n",
    "plt.figure(figsize=(6,6), dpi=80)\n",
    "plt.title(\"Emotion Count\", size=16)\n",
    "plt.xlabel('Emotions', size = 12)\n",
    "plt.ylabel('Count', size = 12)\n",
    "sns.histplot(dataset.Emotions, color='#F19C0E')\n",
    "#plt.show()"
   ]
  },
  {
   "cell_type": "markdown",
   "id": "6eed6ed4",
   "metadata": {},
   "source": [
    "\n",
    "## Extracting features from audio files\n",
    "\n",
    "We will now take the required features out of the audio files. The emotion label for each audio track will be stored in a dataframe together with the MFCC and Mel characteristics that we have extracted from the audio files."
   ]
  },
  {
   "cell_type": "code",
   "execution_count": 7,
   "id": "37a18735",
   "metadata": {},
   "outputs": [
    {
     "name": "stdout",
     "output_type": "stream",
     "text": [
      "Feature processing...\n"
     ]
    }
   ],
   "source": [
    "X, Y = [], []\n",
    "print(\"Feature processing...\")\n",
    "\n",
    "for path, emo, index in zip(dataset.Path, dataset.Emotions, range(len(dataset))):\n",
    "    value, sample = librosa.load(path)\n",
    "    # noise injection\n",
    "    noise_amp = 0.035 * np.random.uniform() * np.amax(value)\n",
    "    value = value + noise_amp * np.random.normal(size=value.shape[0])\n",
    "    # mfcc\n",
    "    mfcc = librosa.feature.mfcc(y=value, sr= sample, n_mfcc=13, n_fft=200, hop_length=512)\n",
    "    mfcc = np.ravel(mfcc.T)\n",
    "    # mel\n",
    "    mel = librosa.feature.melspectrogram(y=value, sr=sample, hop_length = 256, n_fft = 512, n_mels=64)\n",
    "    mel = librosa.power_to_db(mel ** 2)\n",
    "    mel = np.ravel(mel).T\n",
    "    result = np.array([])\n",
    "    result = np.hstack((result, mfcc, mel))\n",
    "    #print(result)\n",
    "    result = np.array(result)\n",
    "    X.append(result)\n",
    "    Y.append(emo)"
   ]
  },
  {
   "cell_type": "code",
   "execution_count": 8,
   "id": "3fae422c",
   "metadata": {},
   "outputs": [
    {
     "name": "stdout",
     "output_type": "stream",
     "text": [
      "(7442, 30457)\n",
      "               0          1          2          3          4          5  \\\n",
      "7432 -705.221642 -53.694329  -2.931700  16.362789  10.331152  19.504666   \n",
      "7433 -686.019674 -69.574294  -3.105875  31.758380  19.076160  -8.020408   \n",
      "7434 -679.554973 -70.103256 -23.702807  18.818556  13.311338 -15.252025   \n",
      "7435 -794.647274 -24.942598 -14.585918  12.539033  10.959513   2.054207   \n",
      "7436 -684.322812 -57.432735   7.892476  17.478779  -8.662243   6.859553   \n",
      "7437 -728.807598 -58.677698 -15.605139  30.048475  12.703415  -7.749129   \n",
      "7438 -722.451717 -44.153613 -11.023437  21.076496   9.784879   2.347162   \n",
      "7439 -728.696743 -58.436418   5.042817  28.794834  10.554210   5.765407   \n",
      "7440 -748.956269 -37.807179  19.307036  21.624446  -3.190309  -3.551754   \n",
      "7441 -742.152378 -82.236785  -1.028333  22.393238  17.045150  -2.040978   \n",
      "\n",
      "              6          7          8          9  ...  30447  30448  30449  \\\n",
      "7432 -39.693287 -11.699640  13.942040  -6.507607  ...    NaN    NaN    NaN   \n",
      "7433 -16.610386  -1.493597   3.322289 -10.891577  ...    NaN    NaN    NaN   \n",
      "7434  -1.781676  -2.948158   5.797707  -7.594178  ...    NaN    NaN    NaN   \n",
      "7435  -4.552421   1.934436 -11.553933  -6.939478  ...    NaN    NaN    NaN   \n",
      "7436  -1.919451 -10.132499  -3.153026  -1.422305  ...    NaN    NaN    NaN   \n",
      "7437  -8.218205   4.784154   0.238167 -17.021512  ...    NaN    NaN    NaN   \n",
      "7438  -1.457505 -13.423963 -10.508690  -2.869773  ...    NaN    NaN    NaN   \n",
      "7439   5.935782  -7.569540 -18.759256  -0.618088  ...    NaN    NaN    NaN   \n",
      "7440 -10.287981  -7.946570   1.407533   0.542254  ...    NaN    NaN    NaN   \n",
      "7441  -8.137718   9.820428  -3.720069 -19.039257  ...    NaN    NaN    NaN   \n",
      "\n",
      "      30450  30451  30452  30453  30454  30455  emotion_of_audio  \n",
      "7432    NaN    NaN    NaN    NaN    NaN    NaN              fear  \n",
      "7433    NaN    NaN    NaN    NaN    NaN    NaN             happy  \n",
      "7434    NaN    NaN    NaN    NaN    NaN    NaN           neutral  \n",
      "7435    NaN    NaN    NaN    NaN    NaN    NaN               sad  \n",
      "7436    NaN    NaN    NaN    NaN    NaN    NaN             angry  \n",
      "7437    NaN    NaN    NaN    NaN    NaN    NaN           disgust  \n",
      "7438    NaN    NaN    NaN    NaN    NaN    NaN              fear  \n",
      "7439    NaN    NaN    NaN    NaN    NaN    NaN             happy  \n",
      "7440    NaN    NaN    NaN    NaN    NaN    NaN           neutral  \n",
      "7441    NaN    NaN    NaN    NaN    NaN    NaN               sad  \n",
      "\n",
      "[10 rows x 30457 columns]\n"
     ]
    }
   ],
   "source": [
    "# print(X)\n",
    "# print(Y)\n",
    "extracted_audio_df = pd.DataFrame(X)\n",
    "extracted_audio_df[\"emotion_of_audio\"] = Y\n",
    "print(extracted_audio_df.shape)\n",
    "print(extracted_audio_df.tail(10))\n",
    "extracted_audio_df = extracted_audio_df.fillna(0)\n",
    "#print(extracted_audio_df.isna().any())"
   ]
  },
  {
   "cell_type": "markdown",
   "id": "50724792",
   "metadata": {},
   "source": [
    "## Preparing data for training\n",
    "\n",
    "We will now divide the data into training and testing sets and use the StandardScaler function to standardise the data."
   ]
  },
  {
   "cell_type": "code",
   "execution_count": 9,
   "id": "e8ab083c",
   "metadata": {},
   "outputs": [],
   "source": [
    "# preparing to train\n",
    "X = extracted_audio_df.drop(labels='emotion_of_audio', axis= 1)\n",
    "Y = extracted_audio_df['emotion_of_audio']\n",
    "\n",
    "x_train, x_test, y_train, y_test = train_test_split(np.array(X), Y, test_size=0.2)\n",
    "\n",
    "scaler = StandardScaler()\n",
    "x_train = scaler.fit_transform(x_train)\n",
    "x_test = scaler.transform(x_test)"
   ]
  },
  {
   "cell_type": "markdown",
   "id": "80884f52",
   "metadata": {},
   "source": [
    "## Training the Model\n",
    "\n",
    "From the sklearn.neural network library, we will now build an instance of the MLPClassifier and fit it to the training set of data."
   ]
  },
  {
   "cell_type": "code",
   "execution_count": 10,
   "id": "d00772ee",
   "metadata": {},
   "outputs": [
    {
     "data": {
      "text/plain": [
       "MLPClassifier(alpha=0.839903176695813, batch_size=150, hidden_layer_sizes=100,\n",
       "              learning_rate='adaptive', max_iter=100000, solver='sgd')"
      ]
     },
     "execution_count": 10,
     "metadata": {},
     "output_type": "execute_result"
    }
   ],
   "source": [
    "mlp_model = MLPClassifier(activation='relu',\n",
    "                         solver='sgd',\n",
    "                         hidden_layer_sizes=100, \n",
    "                         alpha=0.839903176695813,\n",
    "                         batch_size=150,\n",
    "                         learning_rate='adaptive',\n",
    "                         max_iter=100000)\n",
    "# Fitting mlp model\n",
    "mlp_model.fit(x_train,y_train)"
   ]
  },
  {
   "cell_type": "markdown",
   "id": "d0da5cd5",
   "metadata": {},
   "source": [
    "## Evaluating the Model\n",
    "\n",
    "From the sklearn.neural network library, we will now build an instance of the MLPClassifier and fit it to the training set of data."
   ]
  },
  {
   "cell_type": "code",
   "execution_count": 11,
   "id": "253dccc2",
   "metadata": {},
   "outputs": [
    {
     "name": "stdout",
     "output_type": "stream",
     "text": [
      "\n",
      "Model:MLPClassifier    Accuracy: 41.17%\n"
     ]
    }
   ],
   "source": [
    "y_pred = mlp_model.predict(x_test)\n",
    "accuracy=accuracy_score(y_true=y_test, y_pred=y_pred)\n",
    "\n",
    "print(\"\\nModel:{}    Accuracy: {:.2f}%\".\n",
    "          format(type(mlp_model).__name__ , accuracy*100))"
   ]
  },
  {
   "cell_type": "markdown",
   "id": "2f14b9ed",
   "metadata": {},
   "source": [
    "## Model Predictions\n",
    "\n",
    "Finally, we can print out the predictions made by the model on the testing set."
   ]
  },
  {
   "cell_type": "code",
   "execution_count": 12,
   "id": "f66afb14",
   "metadata": {},
   "outputs": [
    {
     "name": "stdout",
     "output_type": "stream",
     "text": [
      "The Model's Prediction \n",
      "<<<===========================================>>>\n",
      "       Actual  Predict\n",
      "1238      sad      sad\n",
      "1540  disgust     fear\n",
      "5293    angry    happy\n",
      "7001      sad  neutral\n",
      "142      fear     fear\n"
     ]
    }
   ],
   "source": [
    "print(\"The Model's Prediction \")\n",
    "print(\"<<<===========================================>>>\")\n",
    "df = pd.DataFrame({'Actual': y_test, 'Predict': y_pred})\n",
    "print(df.head())"
   ]
  }
 ],
 "metadata": {
  "kernelspec": {
   "display_name": "Python 3 (ipykernel)",
   "language": "python",
   "name": "python3"
  },
  "language_info": {
   "codemirror_mode": {
    "name": "ipython",
    "version": 3
   },
   "file_extension": ".py",
   "mimetype": "text/x-python",
   "name": "python",
   "nbconvert_exporter": "python",
   "pygments_lexer": "ipython3",
   "version": "3.8.8"
  },
  "widgets": {
   "application/vnd.jupyter.widget-state+json": {
    "state": {},
    "version_major": 2,
    "version_minor": 0
   }
  }
 },
 "nbformat": 4,
 "nbformat_minor": 5
}
